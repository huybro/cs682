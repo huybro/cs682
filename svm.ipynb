{
  "cells": [
    {
      "cell_type": "markdown",
      "metadata": {
        "id": "view-in-github",
        "colab_type": "text"
      },
      "source": [
        "<a href=\"https://colab.research.google.com/github/huybro/cs682/blob/main/svm.ipynb\" target=\"_parent\"><img src=\"https://colab.research.google.com/assets/colab-badge.svg\" alt=\"Open In Colab\"/></a>"
      ]
    },
    {
      "cell_type": "markdown",
      "metadata": {
        "id": "aVlcQ86s_aGe"
      },
      "source": [
        "# Multiclass Support Vector Machine exercise\n",
        "\n",
        "*Complete and hand in this completed worksheet (including its outputs and any supporting code outside of the worksheet) with your assignment submission. For more details see the [assignments page](https://compsci682-fa19.github.io/assignments2019/assignment1/) on the course website.*\n",
        "\n",
        "In this exercise you will:\n",
        "    \n",
        "- implement a fully-vectorized **loss function** for the SVM\n",
        "- implement the fully-vectorized expression for its **analytic gradient**\n",
        "- **check your implementation** using numerical gradient\n",
        "- use a validation set to **tune the learning rate and regularization** strength\n",
        "- **optimize** the loss function with **SGD**\n",
        "- **visualize** the final learned weights\n"
      ]
    },
    {
      "cell_type": "code",
      "source": [
        "### IF YOU ARE USING COLAB, UNCOMMENT AND RUN THIS BLOCK FIRST ###\n",
        "\n",
        "# # Mount google drive to allow access to your files\n",
        "from google.colab import drive\n",
        "drive.mount('/content/drive')\n",
        "drive_folder = '/content/drive/MyDrive'\n",
        "# Ajust this line to be the assignment1 folder in your google drive\n",
        "notebook_folder = drive_folder + '/cs682/assignments/assignment1'\n",
        "%cd {notebook_folder}"
      ],
      "metadata": {
        "id": "Uux1ddQ4_eQb",
        "colab": {
          "base_uri": "https://localhost:8080/"
        },
        "outputId": "3faf947e-0955-4594-9957-0fb9bc049372"
      },
      "execution_count": 1,
      "outputs": [
        {
          "output_type": "stream",
          "name": "stdout",
          "text": [
            "Mounted at /content/drive\n",
            "/content/drive/MyDrive/cs682/assignments/assignment1\n"
          ]
        }
      ]
    },
    {
      "cell_type": "code",
      "source": [
        "from google.colab import drive\n",
        "drive.mount('/content/drive')"
      ],
      "metadata": {
        "colab": {
          "base_uri": "https://localhost:8080/"
        },
        "id": "PgCZYovJl7y_",
        "outputId": "8cbadec7-12e5-4abf-892c-8a46c649acb3"
      },
      "execution_count": 2,
      "outputs": [
        {
          "output_type": "stream",
          "name": "stdout",
          "text": [
            "Drive already mounted at /content/drive; to attempt to forcibly remount, call drive.mount(\"/content/drive\", force_remount=True).\n"
          ]
        }
      ]
    },
    {
      "cell_type": "code",
      "execution_count": 3,
      "metadata": {
        "id": "ZKH9ZMKA_aGg"
      },
      "outputs": [],
      "source": [
        "# Run some setup code for this notebook.\n",
        "from __future__ import print_function\n",
        "import random\n",
        "import numpy as np\n",
        "from cs682.data_utils import load_CIFAR10\n",
        "import matplotlib.pyplot as plt\n",
        "\n",
        "\n",
        "# This is a bit of magic to make matplotlib figures appear inline in the\n",
        "# notebook rather than in a new window.\n",
        "%matplotlib inline\n",
        "plt.rcParams['figure.figsize'] = (10.0, 8.0) # set default size of plots\n",
        "plt.rcParams['image.interpolation'] = 'nearest'\n",
        "plt.rcParams['image.cmap'] = 'gray'\n",
        "\n",
        "# Some more magic so that the notebook will reload external python modules;\n",
        "# see http://stackoverflow.com/questions/1907993/autoreload-of-modules-in-ipython\n",
        "%load_ext autoreload\n",
        "%autoreload 2"
      ]
    },
    {
      "cell_type": "markdown",
      "metadata": {
        "id": "bRAhtjG4_aGi"
      },
      "source": [
        "## CIFAR-10 Data Loading and Preprocessing"
      ]
    },
    {
      "cell_type": "code",
      "execution_count": 4,
      "metadata": {
        "id": "4B0EmtZ-_aGj",
        "colab": {
          "base_uri": "https://localhost:8080/"
        },
        "outputId": "870c2dd7-b1f5-45a7-80ce-e31c6506d8ca"
      },
      "outputs": [
        {
          "output_type": "stream",
          "name": "stdout",
          "text": [
            "Training data shape:  (50000, 32, 32, 3)\n",
            "Training labels shape:  (50000,)\n",
            "Test data shape:  (10000, 32, 32, 3)\n",
            "Test labels shape:  (10000,)\n"
          ]
        }
      ],
      "source": [
        "# Load the raw CIFAR-10 data.\n",
        "cifar10_dir = 'cs682/datasets/cifar-10-batches-py'\n",
        "\n",
        "# Cleaning up variables to prevent loading data multiple times (which may cause memory issue)\n",
        "try:\n",
        "   del X_train, y_train\n",
        "   del X_test, y_test\n",
        "   print('Clear previously loaded data.')\n",
        "except:\n",
        "   pass\n",
        "# Don't forget to run get_datasets.sh, or this will throw an error\n",
        "X_train, y_train, X_test, y_test = load_CIFAR10(cifar10_dir)\n",
        "\n",
        "# As a sanity check, we print out the size of the training and test data.\n",
        "print('Training data shape: ', X_train.shape)\n",
        "print('Training labels shape: ', y_train.shape)\n",
        "print('Test data shape: ', X_test.shape)\n",
        "print('Test labels shape: ', y_test.shape)"
      ]
    },
    {
      "cell_type": "code",
      "execution_count": null,
      "metadata": {
        "id": "s20kQOhu_aGk"
      },
      "outputs": [],
      "source": [
        "# Visualize some examples from the dataset.\n",
        "# We show a few examples of training images from each class.\n",
        "classes = ['plane', 'car', 'bird', 'cat', 'deer', 'dog', 'frog', 'horse', 'ship', 'truck']\n",
        "num_classes = len(classes)\n",
        "samples_per_class = 7\n",
        "for y, cls in enumerate(classes):\n",
        "    idxs = np.flatnonzero(y_train == y)\n",
        "    idxs = np.random.choice(idxs, samples_per_class, replace=False)\n",
        "    for i, idx in enumerate(idxs):\n",
        "        plt_idx = i * num_classes + y + 1\n",
        "        plt.subplot(samples_per_class, num_classes, plt_idx)\n",
        "        plt.imshow(X_train[idx].astype('uint8'))\n",
        "        plt.axis('off')\n",
        "        if i == 0:\n",
        "            plt.title(cls)\n",
        "plt.show()"
      ]
    },
    {
      "cell_type": "code",
      "execution_count": 5,
      "metadata": {
        "id": "7G6kGeOp_aGl",
        "colab": {
          "base_uri": "https://localhost:8080/"
        },
        "outputId": "882535b0-cd52-4a22-ef57-d59fff55feee"
      },
      "outputs": [
        {
          "output_type": "stream",
          "name": "stdout",
          "text": [
            "Train data shape:  (49000, 32, 32, 3)\n",
            "Train labels shape:  (49000,)\n",
            "Validation data shape:  (1000, 32, 32, 3)\n",
            "Validation labels shape:  (1000,)\n",
            "Test data shape:  (1000, 32, 32, 3)\n",
            "Test labels shape:  (1000,)\n"
          ]
        }
      ],
      "source": [
        "# Split the data into train, val, and test sets. In addition we will\n",
        "# create a small development set as a subset of the training data;\n",
        "# we can use this for development so our code runs faster.\n",
        "num_training = 49000\n",
        "num_validation = 1000\n",
        "num_test = 1000\n",
        "num_dev = 500\n",
        "\n",
        "# Our validation set will be num_validation points from the original\n",
        "# training set.\n",
        "mask = range(num_training, num_training + num_validation)\n",
        "X_val = X_train[mask]\n",
        "y_val = y_train[mask]\n",
        "\n",
        "# Our training set will be the first num_train points from the original\n",
        "# training set.\n",
        "mask = range(num_training)\n",
        "X_train = X_train[mask]\n",
        "y_train = y_train[mask]\n",
        "\n",
        "# We will also make a development set, which is a small subset of\n",
        "# the training set.\n",
        "mask = np.random.choice(num_training, num_dev, replace=False)\n",
        "X_dev = X_train[mask]\n",
        "y_dev = y_train[mask]\n",
        "\n",
        "# We use the first num_test points of the original test set as our\n",
        "# test set.\n",
        "mask = range(num_test)\n",
        "X_test = X_test[mask]\n",
        "y_test = y_test[mask]\n",
        "\n",
        "print('Train data shape: ', X_train.shape)\n",
        "print('Train labels shape: ', y_train.shape)\n",
        "print('Validation data shape: ', X_val.shape)\n",
        "print('Validation labels shape: ', y_val.shape)\n",
        "print('Test data shape: ', X_test.shape)\n",
        "print('Test labels shape: ', y_test.shape)"
      ]
    },
    {
      "cell_type": "code",
      "execution_count": 6,
      "metadata": {
        "id": "3s2QhygR_aGm",
        "colab": {
          "base_uri": "https://localhost:8080/"
        },
        "outputId": "910262d7-2d07-4359-8fb1-967780a69453"
      },
      "outputs": [
        {
          "output_type": "stream",
          "name": "stdout",
          "text": [
            "Training data shape:  (49000, 3072)\n",
            "Validation data shape:  (1000, 3072)\n",
            "Test data shape:  (1000, 3072)\n",
            "dev data shape:  (500, 3072)\n"
          ]
        }
      ],
      "source": [
        "# Preprocessing: reshape the image data into rows\n",
        "X_train = np.reshape(X_train, (X_train.shape[0], -1))\n",
        "X_val = np.reshape(X_val, (X_val.shape[0], -1))\n",
        "X_test = np.reshape(X_test, (X_test.shape[0], -1))\n",
        "X_dev = np.reshape(X_dev, (X_dev.shape[0], -1))\n",
        "\n",
        "# As a sanity check, print out the shapes of the data\n",
        "print('Training data shape: ', X_train.shape)\n",
        "print('Validation data shape: ', X_val.shape)\n",
        "print('Test data shape: ', X_test.shape)\n",
        "print('dev data shape: ', X_dev.shape)"
      ]
    },
    {
      "cell_type": "code",
      "execution_count": 7,
      "metadata": {
        "id": "ylITrwJD_aGn",
        "colab": {
          "base_uri": "https://localhost:8080/",
          "height": 405
        },
        "outputId": "7ae05fd8-f2e8-4942-b118-db79259140fc"
      },
      "outputs": [
        {
          "output_type": "stream",
          "name": "stdout",
          "text": [
            "[130.64189796 135.98173469 132.47391837 130.05569388 135.34804082\n",
            " 131.75402041 130.96055102 136.14328571 132.47636735 131.48467347]\n"
          ]
        },
        {
          "output_type": "display_data",
          "data": {
            "text/plain": [
              "<Figure size 400x400 with 1 Axes>"
            ],
            "image/png": "[encoded data removed]"
          },
          "metadata": {}
        }
      ],
      "source": [
        "# Preprocessing: subtract the mean image\n",
        "# first: compute the image mean based on the training data\n",
        "mean_image = np.mean(X_train, axis=0)\n",
        "print(mean_image[:10]) # print a few of the elements\n",
        "plt.figure(figsize=(4,4))\n",
        "plt.imshow(mean_image.reshape((32,32,3)).astype('uint8')) # visualize the mean image\n",
        "plt.show()"
      ]
    },
    {
      "cell_type": "code",
      "execution_count": 8,
      "metadata": {
        "id": "tdDL5ylG_aGo"
      },
      "outputs": [],
      "source": [
        "# second: subtract the mean image from train and test data\n",
        "X_train -= mean_image\n",
        "X_val -= mean_image\n",
        "X_test -= mean_image\n",
        "X_dev -= mean_image"
      ]
    },
    {
      "cell_type": "code",
      "execution_count": 9,
      "metadata": {
        "id": "ZZ74p6bF_aGp",
        "colab": {
          "base_uri": "https://localhost:8080/"
        },
        "outputId": "36e1239b-631a-482e-85ba-e0c4805e55ef"
      },
      "outputs": [
        {
          "output_type": "stream",
          "name": "stdout",
          "text": [
            "(49000, 3073) (1000, 3073) (1000, 3073) (500, 3073)\n"
          ]
        }
      ],
      "source": [
        "# third: append the bias dimension of ones (i.e. bias trick) so that our SVM\n",
        "# only has to worry about optimizing a single weight matrix W.\n",
        "X_train = np.hstack([X_train, np.ones((X_train.shape[0], 1))])\n",
        "X_val = np.hstack([X_val, np.ones((X_val.shape[0], 1))])\n",
        "X_test = np.hstack([X_test, np.ones((X_test.shape[0], 1))])\n",
        "X_dev = np.hstack([X_dev, np.ones((X_dev.shape[0], 1))])\n",
        "\n",
        "print(X_train.shape, X_val.shape, X_test.shape, X_dev.shape)"
      ]
    },
    {
      "cell_type": "markdown",
      "metadata": {
        "id": "HB1mrhQ-_aGp"
      },
      "source": [
        "## SVM Classifier\n",
        "\n",
        "Your code for this section will all be written inside **cs682/classifiers/linear_svm.py**.\n",
        "\n",
        "As you can see, we have prefilled the function `svm_loss_naive` which uses for loops to evaluate the multiclass SVM loss function."
      ]
    },
    {
      "cell_type": "code",
      "execution_count": 10,
      "metadata": {
        "id": "oaKt2Yc4_aGq",
        "colab": {
          "base_uri": "https://localhost:8080/"
        },
        "outputId": "e27b031b-3330-4baf-d202-ad95007d5aca"
      },
      "outputs": [
        {
          "output_type": "stream",
          "name": "stdout",
          "text": [
            "loss: 9.342082\n"
          ]
        }
      ],
      "source": [
        "# Evaluate the naive implementation of the loss we provided for you:\n",
        "from cs682.classifiers.linear_svm import svm_loss_naive\n",
        "import time\n",
        "\n",
        "# generate a random SVM weight matrix of small numbers\n",
        "W = np.random.randn(3073, 10) * 0.0001\n",
        "\n",
        "loss, grad = svm_loss_naive(W, X_dev, y_dev, 0.000005)\n",
        "print('loss: %f' % (loss, ))"
      ]
    },
    {
      "cell_type": "markdown",
      "metadata": {
        "id": "Kmbvrpc__aGr"
      },
      "source": [
        "The `grad` returned from the function above is right now all zero. Derive and implement the gradient for the SVM cost function and implement it inline inside the function `svm_loss_naive`. You will find it helpful to interleave your new code inside the existing function.\n",
        "\n",
        "To check that you have correctly implemented the gradient correctly, you can numerically estimate the gradient of the loss function and compare the numeric estimate to the gradient that you computed. We have provided code that does this for you:"
      ]
    },
    {
      "cell_type": "code",
      "execution_count": 11,
      "metadata": {
        "id": "AFppPKBR_aGr",
        "colab": {
          "base_uri": "https://localhost:8080/"
        },
        "outputId": "020dd558-b1ea-4312-cdd9-7f0dfb1067e3"
      },
      "outputs": [
        {
          "output_type": "stream",
          "name": "stdout",
          "text": [
            "numerical: 46.698324 analytic: 46.698324, relative error: 3.633408e-12\n",
            "numerical: -0.405615 analytic: -0.405615, relative error: 1.309059e-09\n",
            "numerical: -24.245321 analytic: -24.245321, relative error: 5.529162e-12\n",
            "numerical: 20.134145 analytic: 20.134145, relative error: 1.281210e-11\n",
            "numerical: -19.308719 analytic: -19.308719, relative error: 1.204737e-11\n",
            "numerical: -19.721908 analytic: -19.721908, relative error: 2.298529e-11\n",
            "numerical: -17.705420 analytic: -17.705420, relative error: 1.155041e-11\n",
            "numerical: -9.835515 analytic: -9.835515, relative error: 3.953654e-12\n",
            "numerical: -0.094697 analytic: -0.094697, relative error: 6.636091e-10\n",
            "numerical: -1.004838 analytic: -1.004838, relative error: 4.695775e-11\n",
            "numerical: 27.140126 analytic: 27.140126, relative error: 9.367719e-12\n",
            "numerical: -0.432730 analytic: -0.432730, relative error: 5.415649e-10\n",
            "numerical: 10.142053 analytic: 10.142053, relative error: 6.180873e-12\n",
            "numerical: 11.637201 analytic: 11.637201, relative error: 9.557694e-12\n",
            "numerical: 17.295167 analytic: 17.295167, relative error: 1.356057e-12\n",
            "numerical: 3.114045 analytic: 3.114045, relative error: 2.732385e-11\n",
            "numerical: -6.972143 analytic: -6.972143, relative error: 5.024245e-11\n",
            "numerical: 7.249796 analytic: 7.249796, relative error: 1.113544e-11\n",
            "numerical: -2.048349 analytic: -2.048349, relative error: 1.663305e-11\n",
            "numerical: 23.096301 analytic: 23.096301, relative error: 4.240943e-12\n"
          ]
        }
      ],
      "source": [
        "# Once you've implemented the gradient, recompute it with the code below\n",
        "# and gradient check it with the function we provided for you\n",
        "\n",
        "# Compute the loss and its gradient at W.\n",
        "loss, grad = svm_loss_naive(W, X_dev, y_dev, 0.0)\n",
        "\n",
        "# Numerically compute the gradient along several randomly chosen dimensions, and\n",
        "# compare them with your analytically computed gradient. The numbers should match\n",
        "# almost exactly along all dimensions.\n",
        "from cs682.gradient_check import grad_check_sparse\n",
        "f = lambda w: svm_loss_naive(w, X_dev, y_dev, 0.0)[0]\n",
        "grad_numerical = grad_check_sparse(f, W, grad)\n",
        "\n",
        "# do the gradient check once again with regularization turned on\n",
        "# you didn't forget the regularization gradient did you?\n",
        "loss, grad = svm_loss_naive(W, X_dev, y_dev, 5e1)\n",
        "f = lambda w: svm_loss_naive(w, X_dev, y_dev, 5e1)[0]\n",
        "grad_numerical = grad_check_sparse(f, W, grad)"
      ]
    },
    {
      "cell_type": "markdown",
      "metadata": {
        "id": "PcudM36H_aGs"
      },
      "source": [
        "### Inline Question 1:\n",
        "It is possible that once in a while a dimension in the gradcheck will not match exactly. What could such a discrepancy be caused by? Is it a reason for concern? What is a simple example in one dimension where a gradient check could fail? How would change the margin affect of the frequency of this happening? *Hint: the SVM loss function is not strictly speaking differentiable*\n",
        "\n",
        "**Your Answer:** *Gradient check discrepancies can occur at non-differentiable points in the loss function, like the hinge in SVM loss  max(0, margin) . At the margin being exactly zero, the loss is not smooth, causing small numerical perturbations to yield inconsistent gradients. This happens because the gradient is undefined at such points.\n",
        "\n",
        "It’s usually not a concern if discrepancies occur near these non-differentiable points. However, if they happen frequently elsewhere, there might be an issue with the implementation.\n",
        "\n",
        "Example:\n",
        "\n",
        "For  f(x) = \\max(0, x) , the gradient is 1 for  x > 0  and 0 for  x < 0 , but undefined at  x = 0 , which can lead to mismatches in gradient checks. *"
      ]
    },
    {
      "cell_type": "code",
      "execution_count": 12,
      "metadata": {
        "id": "CmXYvObu_aGs",
        "colab": {
          "base_uri": "https://localhost:8080/"
        },
        "outputId": "309fbd9b-be51-4c92-8bbb-5e02fae14b88"
      },
      "outputs": [
        {
          "output_type": "stream",
          "name": "stdout",
          "text": [
            "Naive loss: 9.342082e+00 computed in 0.087958s\n",
            "Vectorized loss: 9.342082e+00 computed in 0.012374s\n",
            "difference: 0.000000\n"
          ]
        }
      ],
      "source": [
        "# Next implement the function svm_loss_vectorized; for now only compute the loss;\n",
        "# we will implement the gradient in a moment.\n",
        "tic = time.time()\n",
        "loss_naive, grad_naive = svm_loss_naive(W, X_dev, y_dev, 0.000005)\n",
        "toc = time.time()\n",
        "print('Naive loss: %e computed in %fs' % (loss_naive, toc - tic))\n",
        "\n",
        "from cs682.classifiers.linear_svm import svm_loss_vectorized\n",
        "tic = time.time()\n",
        "loss_vectorized, _ = svm_loss_vectorized(W, X_dev, y_dev, 0.000005)\n",
        "toc = time.time()\n",
        "print('Vectorized loss: %e computed in %fs' % (loss_vectorized, toc - tic))\n",
        "\n",
        "# The losses should match but your vectorized implementation should be much faster.\n",
        "print('difference: %f' % (loss_naive - loss_vectorized))"
      ]
    },
    {
      "cell_type": "code",
      "execution_count": 13,
      "metadata": {
        "id": "e2Uid1sE_aGt",
        "colab": {
          "base_uri": "https://localhost:8080/"
        },
        "outputId": "f0cf5d7e-66e0-41f3-cd12-605e715c8d39"
      },
      "outputs": [
        {
          "output_type": "stream",
          "name": "stdout",
          "text": [
            "Naive loss and gradient: computed in 0.099810s\n",
            "Vectorized loss and gradient: computed in 0.011992s\n",
            "difference: 0.000000\n"
          ]
        }
      ],
      "source": [
        "# Complete the implementation of svm_loss_vectorized, and compute the gradient\n",
        "# of the loss function in a vectorized way.\n",
        "\n",
        "# The naive implementation and the vectorized implementation should match, but\n",
        "# the vectorized version should still be much faster.\n",
        "tic = time.time()\n",
        "_, grad_naive = svm_loss_naive(W, X_dev, y_dev, 0.000005)\n",
        "toc = time.time()\n",
        "print('Naive loss and gradient: computed in %fs' % (toc - tic))\n",
        "\n",
        "tic = time.time()\n",
        "_, grad_vectorized = svm_loss_vectorized(W, X_dev, y_dev, 0.000005)\n",
        "toc = time.time()\n",
        "print('Vectorized loss and gradient: computed in %fs' % (toc - tic))\n",
        "\n",
        "# The loss is a single number, so it is easy to compare the values computed\n",
        "# by the two implementations. The gradient on the other hand is a matrix, so\n",
        "# we use the Frobenius norm to compare them.\n",
        "difference = np.linalg.norm(grad_naive - grad_vectorized, ord='fro')\n",
        "print('difference: %f' % difference)"
      ]
    },
    {
      "cell_type": "markdown",
      "metadata": {
        "id": "c7JmBQh2_aGt"
      },
      "source": [
        "### Stochastic Gradient Descent\n",
        "\n",
        "We now have vectorized and efficient expressions for the loss, the gradient and our gradient matches the numerical gradient. We are therefore ready to do SGD to minimize the loss."
      ]
    },
    {
      "cell_type": "code",
      "execution_count": 14,
      "metadata": {
        "id": "fke2vZAt_aGt",
        "colab": {
          "base_uri": "https://localhost:8080/"
        },
        "outputId": "18f49ff3-5cfc-4a94-f900-27f3cffe9539"
      },
      "outputs": [
        {
          "output_type": "stream",
          "name": "stdout",
          "text": [
            "iteration 0 / 1500: loss 806.260549\n",
            "iteration 100 / 1500: loss 292.493018\n",
            "iteration 200 / 1500: loss 109.102884\n",
            "iteration 300 / 1500: loss 42.811487\n",
            "iteration 400 / 1500: loss 19.182978\n",
            "iteration 500 / 1500: loss 10.491857\n",
            "iteration 600 / 1500: loss 7.492648\n",
            "iteration 700 / 1500: loss 6.302698\n",
            "iteration 800 / 1500: loss 5.428750\n",
            "iteration 900 / 1500: loss 5.155890\n",
            "iteration 1000 / 1500: loss 5.303182\n",
            "iteration 1100 / 1500: loss 5.635605\n",
            "iteration 1200 / 1500: loss 5.390980\n",
            "iteration 1300 / 1500: loss 5.348220\n",
            "iteration 1400 / 1500: loss 4.728717\n",
            "That took 8.654961s\n"
          ]
        }
      ],
      "source": [
        "# In the file linear_classifier.py, implement SGD in the function\n",
        "# LinearClassifier.train() and then run it with the code below.\n",
        "from cs682.classifiers import LinearSVM\n",
        "svm = LinearSVM()\n",
        "tic = time.time()\n",
        "loss_hist = svm.train(X_train, y_train, learning_rate=1e-7, reg=2.5e4,\n",
        "                      num_iters=1500, verbose=True)\n",
        "toc = time.time()\n",
        "print('That took %fs' % (toc - tic))"
      ]
    },
    {
      "cell_type": "code",
      "execution_count": 15,
      "metadata": {
        "id": "EtTseiBz_aGu",
        "colab": {
          "base_uri": "https://localhost:8080/",
          "height": 616
        },
        "outputId": "9d7e8a38-1d00-40e2-c115-15176cbd6129"
      },
      "outputs": [
        {
          "output_type": "display_data",
          "data": {
            "text/plain": [
              "<Figure size 1000x800 with 1 Axes>"
            ],
            "image/png": "[encoded data removed]"
          },
          "metadata": {}
        }
      ],
      "source": [
        "# A useful debugging strategy is to plot the loss as a function of\n",
        "# iteration number:\n",
        "plt.plot(loss_hist)\n",
        "plt.xlabel('Iteration number')\n",
        "plt.ylabel('Loss value')\n",
        "plt.show()"
      ]
    },
    {
      "cell_type": "code",
      "execution_count": 16,
      "metadata": {
        "id": "CfAfkfaU_aGu",
        "colab": {
          "base_uri": "https://localhost:8080/"
        },
        "outputId": "41bc38aa-e8c5-446e-da3a-5f3ccc3fbbab"
      },
      "outputs": [
        {
          "output_type": "stream",
          "name": "stdout",
          "text": [
            "training accuracy: 0.371490\n",
            "validation accuracy: 0.391000\n"
          ]
        }
      ],
      "source": [
        "# Write the LinearSVM.predict function and evaluate the performance on both the\n",
        "# training and validation set\n",
        "y_train_pred = svm.predict(X_train)\n",
        "print('training accuracy: %f' % (np.mean(y_train == y_train_pred), ))\n",
        "y_val_pred = svm.predict(X_val)\n",
        "print('validation accuracy: %f' % (np.mean(y_val == y_val_pred), ))"
      ]
    },
    {
      "cell_type": "code",
      "execution_count": null,
      "metadata": {
        "id": "uXRXrNrQ_aGu"
      },
      "outputs": [],
      "source": [
        "# Use the validation set to tune hyperparameters (regularization strength and\n",
        "# learning rate). You should experiment with different ranges for the learning\n",
        "# rates and regularization strengths; if you are careful you should be able to\n",
        "# get a classification accuracy of about 0.4 on the validation set.\n",
        "learning_rates = [1e-7, 5e-5]\n",
        "regularization_strengths = [2.5e4, 5e4]\n",
        "\n",
        "# results is dictionary mapping tuples of the form\n",
        "# (learning_rate, regularization_strength) to tuples of the form\n",
        "# (training_accuracy, validation_accuracy). The accuracy is simply the fraction\n",
        "# of data points that are correctly classified.\n",
        "results = {}\n",
        "best_val = -1   # The highest validation accuracy that we have seen so far.\n",
        "best_svm = None # The LinearSVM object that achieved the highest validation rate.\n",
        "\n",
        "################################################################################\n",
        "# TODO:                                                                        #\n",
        "# Write code that chooses the best hyperparameters by tuning on the validation #\n",
        "# set. For each combination of hyperparameters, train a linear SVM on the      #\n",
        "# training set, compute its accuracy on the training and validation sets, and  #\n",
        "# store these numbers in the results dictionary. In addition, store the best   #\n",
        "# validation accuracy in best_val and the LinearSVM object that achieves this  #\n",
        "# accuracy in best_svm.                                                        #\n",
        "#                                                                              #\n",
        "# Hint: You should use a small value for num_iters as you develop your         #\n",
        "# validation code so that the SVMs don't take much time to train; once you are #\n",
        "# confident that your validation code works, you should rerun the validation   #\n",
        "# code with a larger value for num_iters.                                      #\n",
        "################################################################################\n",
        "# Your code\n",
        "for learning_rate in learning_rates:\n",
        "  for regularization in regularization_strengths:\n",
        "    svm = LinearSVM()\n",
        "    loss_hist = svm.train(X_train, y_train, learning_rate=learning_rate, reg=regularization)\n",
        "    y_train_pred = svm.predict(X_train)\n",
        "    y_val_pred = svm.predict(X_val)\n",
        "################################################################################\n",
        "#                              END OF YOUR CODE                                #\n",
        "################################################################################\n",
        "\n",
        "# Print out results.\n",
        "for lr, reg in sorted(results):\n",
        "    train_accuracy, val_accuracy = results[(lr, reg)]\n",
        "    print('lr %e reg %e train accuracy: %f val accuracy: %f' % (\n",
        "                lr, reg, train_accuracy, val_accuracy))\n",
        "\n",
        "print('best validation accuracy achieved during cross-validation: %f' % best_val)"
      ]
    },
    {
      "cell_type": "code",
      "execution_count": null,
      "metadata": {
        "id": "jsVnNHzv_aGv"
      },
      "outputs": [],
      "source": [
        "# Visualize the cross-validation results\n",
        "import math\n",
        "x_scatter = [math.log10(x[0]) for x in results]\n",
        "y_scatter = [math.log10(x[1]) for x in results]\n",
        "\n",
        "# plot training accuracy\n",
        "marker_size = 100\n",
        "colors = [results[x][0] for x in results]\n",
        "plt.subplot(2, 1, 1)\n",
        "plt.scatter(x_scatter, y_scatter, marker_size, c=colors)\n",
        "plt.colorbar()\n",
        "plt.xlabel('log learning rate')\n",
        "plt.ylabel('log regularization strength')\n",
        "plt.title('CIFAR-10 training accuracy')\n",
        "\n",
        "# plot validation accuracy\n",
        "colors = [results[x][1] for x in results] # default size of markers is 20\n",
        "plt.subplot(2, 1, 2)\n",
        "plt.scatter(x_scatter, y_scatter, marker_size, c=colors)\n",
        "plt.colorbar()\n",
        "plt.xlabel('log learning rate')\n",
        "plt.ylabel('log regularization strength')\n",
        "plt.title('CIFAR-10 validation accuracy')\n",
        "plt.show()"
      ]
    },
    {
      "cell_type": "code",
      "execution_count": null,
      "metadata": {
        "id": "uZNZObsH_aGv"
      },
      "outputs": [],
      "source": [
        "# Evaluate the best svm on test set\n",
        "y_test_pred = best_svm.predict(X_test)\n",
        "test_accuracy = np.mean(y_test == y_test_pred)\n",
        "print('linear SVM on raw pixels final test set accuracy: %f' % test_accuracy)"
      ]
    },
    {
      "cell_type": "code",
      "execution_count": null,
      "metadata": {
        "id": "eGw51rBL_aGv"
      },
      "outputs": [],
      "source": [
        "# Visualize the learned weights for each class.\n",
        "# Depending on your choice of learning rate and regularization strength, these may\n",
        "# or may not be nice to look at.\n",
        "w = best_svm.W[:-1,:] # strip out the bias\n",
        "w = w.reshape(32, 32, 3, 10)\n",
        "w_min, w_max = np.min(w), np.max(w)\n",
        "classes = ['plane', 'car', 'bird', 'cat', 'deer', 'dog', 'frog', 'horse', 'ship', 'truck']\n",
        "for i in range(10):\n",
        "    plt.subplot(2, 5, i + 1)\n",
        "\n",
        "    # Rescale the weights to be between 0 and 255\n",
        "    wimg = 255.0 * (w[:, :, :, i].squeeze() - w_min) / (w_max - w_min)\n",
        "    plt.imshow(wimg.astype('uint8'))\n",
        "    plt.axis('off')\n",
        "    plt.title(classes[i])"
      ]
    },
    {
      "cell_type": "markdown",
      "metadata": {
        "id": "NhiNFrEN_aGv"
      },
      "source": [
        "### Inline question 2:\n",
        "Describe what your visualized SVM weights look like, and offer a brief explanation for why they look they way that they do.\n",
        "\n",
        "**Your answer:** *fill this in*"
      ]
    }
  ],
  "metadata": {
    "kernelspec": {
      "display_name": "Python 3",
      "language": "python",
      "name": "python3"
    },
    "language_info": {
      "codemirror_mode": {
        "name": "ipython",
        "version": 3
      },
      "file_extension": ".py",
      "mimetype": "text/x-python",
      "name": "python",
      "nbconvert_exporter": "python",
      "pygments_lexer": "ipython3",
      "version": "3.6.9"
    },
    "colab": {
      "provenance": [],
      "include_colab_link": true
    }
  },
  "nbformat": 4,
  "nbformat_minor": 0
}